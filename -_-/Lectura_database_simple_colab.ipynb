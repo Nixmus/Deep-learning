{
 "cells": [
  {
   "cell_type": "markdown",
   "id": "b02509da",
   "metadata": {},
   "source": [
    "# Análisis y Preprocesamiento de Base de Datos TPREDIO\n",
    "\n",
    "Este notebook realiza la lectura, limpieza y preprocesamiento de la base de datos TPREDIO.csv"
   ]
  },
  {
   "cell_type": "markdown",
   "id": "f5ff9bf5",
   "metadata": {},
   "source": [
    "## 1. Importar Bibliotecas y Extensiones"
   ]
  },
  {
   "cell_type": "code",
   "execution_count": null,
   "id": "cea4f92b",
   "metadata": {},
   "outputs": [],
   "source": [
    "#Bibliotecas y extensiones\n",
    "import pandas as pd\n",
    "from sklearn.preprocessing import LabelEncoder\n",
    "import numpy as np"
   ]
  },
  {
   "cell_type": "markdown",
   "id": "8e18637b",
   "metadata": {},
   "source": [
    "## 2. Cargar Base de Datos"
   ]
  },
  {
   "cell_type": "code",
   "execution_count": null,
   "id": "6d8fcf7a",
   "metadata": {},
   "outputs": [],
   "source": [
    "ruta_archivo= \"C:\\\\Users\\\\rafad\\\\OneDrive\\\\Documents\\\\codigos\\\\Codigos Python\\\\Deep learning\\\\TPREDIO.csv\"\n",
    "df = pd.read_csv(ruta_archivo)"
   ]
  },
  {
   "cell_type": "markdown",
   "id": "e1419128",
   "metadata": {},
   "source": [
    "## 3. Análisis Exploratorio de Datos"
   ]
  },
  {
   "cell_type": "code",
   "execution_count": null,
   "id": "671e9875",
   "metadata": {},
   "outputs": [],
   "source": [
    "#Obtengo informacion general de la base de datos\n",
    "print(\"\\n\"*3)\n",
    "print(df.head())\n",
    "print(\"\\n\"*3)\n",
    "print(df.describe()) \n",
    "print(\"\\n\"*3)\n",
    "#Obtengo informacion de las columnas y los tipos de datos\n",
    "print(df.info())\n",
    "print(\"\\n\"*3)"
   ]
  },
  {
   "cell_type": "markdown",
   "id": "25c61cbc",
   "metadata": {},
   "source": [
    "## 4. Análisis de Valores Nulos"
   ]
  },
  {
   "cell_type": "code",
   "execution_count": null,
   "id": "e46d0bfc",
   "metadata": {},
   "outputs": [],
   "source": [
    "#Obtengo informacion de los valores nulos\n",
    "print(\"Analisis de valores nulos\")\n",
    "print(\"\\n\")\n",
    "print(f\"Total de valores nulos en el dataset: {df.isnull().sum().sum()}\")\n",
    "print(\"\\n\"*2)\n",
    "print(\"Valores nulos por columna: \")\n",
    "print(df.isnull().sum())\n",
    "print(\"\\n\"*2)\n",
    "print(\"Porcentaje de valores nulos por columna: \")\n",
    "print((df.isnull().sum() / len(df)) * 100)\n",
    "print(\"\\n\"*2)"
   ]
  },
  {
   "cell_type": "markdown",
   "id": "ef69ea36",
   "metadata": {},
   "source": [
    "## 5. Limpieza de Datos - Eliminación de Columnas"
   ]
  },
  {
   "cell_type": "code",
   "execution_count": null,
   "id": "f3e8c603",
   "metadata": {},
   "outputs": [],
   "source": [
    "#Use IA para que me ayude a determinar que informacion contiene cada columna y tras un analisis decidi eliminar las siguientes columnas:\n",
    "#PRECRESTO/Código técnico complementario, raramente usado\n",
    "#PRECEDCATA/Redundante si tienes PRECHIP\n",
    "#PRENUPRE/Redundante con PRECHIP (ambos identifican el predio)\n",
    "#PRENBARRIO/Redundante con PRECBARRIO (mantener el codigo, eliminar el nombre)\n",
    "#PREMDIRECC/Metodología técnica de dirección\n",
    "#PRETDIRECC/Tipo técnico de dirección\n",
    "#PREDSI/Dirección sin identificar (campo técnico)\n",
    "#PREFCALIF/Fecha de calificación (dato administrativo)\n",
    "#BARMANPRE/Combinación de otros códigos existentes\n",
    "#PREEARMAZON/Detalle constructivo muy específico\n",
    "#PREEMRUROS/Detalle constructivo muy específico\n",
    "#PREECUBIER/Detalle constructivo muy específico\n",
    "#PREBENCHAPE/Enchapes muy específicos\n",
    "#PRECENCHAPE/Enchapes muy específicos\n",
    "#PREBMOBILI/Mobiliario muy específico\n",
    "#PRECMOBILI/Mobiliario muy específico\n",
    "#PREFINCORP/Fecha de incorporación como texto\n",
    "#PREDIRECC/Dirección como texto libre\n",
    "#PREUSOPH/Uso predominante como texto\n",
    "#PREUSONPH/Uso no predominante como texto\n",
    "#PREUVIVIEN/Unidades de vivienda como texto\n",
    "#PREUCALIF/Calificación como texto\n",
    "#PRECLCONS/Clase de construcción como texto\n",
    "#PRECLASE/Eliminar si hay código equivalente más específico\n",
    "#PRECZHF/Eliminar si es descripción de texto (mantener códigos numéricos)\n",
    "#Decidi eliminar aquellas con datos muy especificos, redundantes o tecnicos, ademas elimine algunas de las que tenian mas valores nulos ya que no aportaban mucho\n",
    "\n",
    "#Elimino las columnas identificadas como innecesarias\n",
    "columnas_a_eliminar = ['PRECRESTO', 'PRECEDCATA', 'PRENUPRE', 'PREMDIRECC', 'PRETDIRECC', 'PREDSI', 'PREFCALIF', 'BARMANPRE', 'PREEARMAZON', 'PREEMRUROS', 'PREECUBIER', 'PREBENCHAPE', 'PRECENCHAPE', 'PREBMOBILI', 'PRECMOBILI','PRENBARRIO', 'PREDIRECC', 'PREFINCORP', 'PRECLASE', 'PRECZHF','PREUSOPH', 'PREUSONPH', 'PREUVIVIEN', 'PREUCALIF', 'PRECLCONS']\n",
    "df_limpio = df.drop(columns=columnas_a_eliminar, errors='ignore')\n",
    "\n",
    "#Verifico las dimensiones del dataframe antes y después de la limpieza para verificar que elimine correctamente las columnas deseadas\n",
    "print(\"Dimensiones originales:\", df.shape)\n",
    "print(\"Dimensiones después de eliminar columnas:\", df_limpio.shape)\n",
    "print(\"Columnas eliminadas exitosamente\")\n",
    "print(\"\\n\"*2)\n",
    "\n",
    "df=df_limpio"
   ]
  },
  {
   "cell_type": "code",
   "execution_count": null,
   "id": "7aae7d40",
   "metadata": {},
   "outputs": [],
   "source": [
    "#Muestro información del dataframe limpio y nuevamente evaluo los valores nulos\n",
    "print(\"\\n\")\n",
    "print(\"Información del dataframe limpio:\")\n",
    "print(df.info())\n",
    "print(\"Análisis de valores nulos en el dataframe limpio:\")\n",
    "print(\"\\n\")\n",
    "print(f\"Total de valores nulos en el dataset: {df.isnull().sum().sum()}\")\n",
    "print(\"\\n\"*2)\n",
    "print(\"Valores nulos por columna: \")\n",
    "print(df.isnull().sum())\n",
    "print(\"\\n\"*2)\n",
    "print(\"Porcentaje de valores nulos por columna: \")\n",
    "print((df.isnull().sum() / len(df)) * 100)\n",
    "print(\"\\n\"*2)"
   ]
  },
  {
   "cell_type": "markdown",
   "id": "c322d28e",
   "metadata": {},
   "source": [
    "## 6. Análisis de Tipos de Datos"
   ]
  },
  {
   "cell_type": "code",
   "execution_count": null,
   "id": "8f06d03f",
   "metadata": {},
   "outputs": [],
   "source": [
    "# Análisis de tipos de datos y identificación de columnas categóricas\n",
    "print(\"Análisis de tipos de datos:\")\n",
    "print(\"\\n\")\n",
    "print(\"Tipos de datos por columna:\")\n",
    "print(df.dtypes)\n",
    "print(\"\\n\"*2)\n",
    "columnas_numericas = df.select_dtypes(include=[np.number]).columns.tolist()\n",
    "columnas_categoricas = df.select_dtypes(include=['object']).columns.tolist()\n",
    "print(\"Columnas numéricas:\", columnas_numericas)\n",
    "print(\"Columnas categóricas:\", columnas_categoricas)\n",
    "print(\"\\n\"*2)"
   ]
  },
  {
   "cell_type": "markdown",
   "id": "fec8bf91",
   "metadata": {},
   "source": [
    "## 7. Tratamiento de Valores Nulos"
   ]
  },
  {
   "cell_type": "code",
   "execution_count": null,
   "id": "e5f042b7",
   "metadata": {},
   "outputs": [],
   "source": [
    "# PROCEDIMIENTO PARA VALORES NULOS\n",
    "print(\"=== TRATAMIENTO DE VALORES NULOS ===\")\n",
    "print(\"\\n\")\n",
    "# Para columnas numéricas: llenar con la mediana\n",
    "for col in columnas_numericas:\n",
    "    if df[col].isnull().sum() > 0:\n",
    "        mediana = df[col].median()\n",
    "        df[col].fillna(mediana, inplace=True)\n",
    "        print(f\"Valores nulos en '{col}' llenados con mediana: {mediana}\")\n",
    "# Para columnas categóricas: llenar con la moda (valor más frecuente)\n",
    "for col in columnas_categoricas:\n",
    "    if df[col].isnull().sum() > 0:\n",
    "        moda = df[col].mode().iloc[0] if not df[col].mode().empty else 'DESCONOCIDO'\n",
    "        df[col].fillna(moda, inplace=True)\n",
    "        print(f\"Valores nulos en '{col}' llenados con moda: {moda}\")\n",
    "print(\"\\n\")\n",
    "print(\"Verificación después del tratamiento de nulos:\")\n",
    "print(f\"Total de valores nulos restantes: {df.isnull().sum().sum()}\")\n",
    "print(\"\\n\"*2)"
   ]
  },
  {
   "cell_type": "markdown",
   "id": "655463f8",
   "metadata": {},
   "source": [
    "## 8. Codificación de Variables Categóricas"
   ]
  },
  {
   "cell_type": "code",
   "execution_count": null,
   "id": "ba448d30",
   "metadata": {},
   "outputs": [],
   "source": [
    "# CONVERSIÓN DE VALORES DE TEXTO A NUMÉRICOS\n",
    "print(\"=== CONVERSIÓN DE TEXTO A VALORES NUMÉRICOS ===\")\n",
    "print(\"\\n\")\n",
    "# Crear diccionario para almacenar los encoders\n",
    "encoders = {}\n",
    "# Convertir columnas categóricas usando Label Encoder\n",
    "df_encoded = df.copy()\n",
    "for col in columnas_categoricas:\n",
    "    print(f\"Convirtiendo columna '{col}':\")\n",
    "    print(f\"  Valores únicos antes: {df[col].nunique()}\")\n",
    "    # Crear y aplicar Label Encoder\n",
    "    le = LabelEncoder()\n",
    "    df_encoded[col] = le.fit_transform(df[col].astype(str))\n",
    "    encoders[col] = le\n",
    "    print(f\"  Valores únicos después: {df_encoded[col].nunique()}\")\n",
    "    print(f\"  Rango de valores: {df_encoded[col].min()} - {df_encoded[col].max()}\")\n",
    "    print(\"\\n\")\n",
    "\n",
    "df = df_encoded"
   ]
  },
  {
   "cell_type": "markdown",
   "id": "7805d4ef",
   "metadata": {},
   "source": [
    "## 9. Verificación Final del Dataset"
   ]
  },
  {
   "cell_type": "code",
   "execution_count": null,
   "id": "bce90421",
   "metadata": {},
   "outputs": [],
   "source": [
    "print(\"Conversión completada. Verificación final:\")\n",
    "print(\"\\n\")\n",
    "print(\"Tipos de datos después de la conversión:\")\n",
    "print(df.dtypes)\n",
    "print(\"\\n\"*2)\n",
    "print(\"Estadísticas descriptivas del dataset final:\")\n",
    "print(df.describe())\n",
    "print(\"\\n\"*2)\n",
    "print(\"Información final del dataset:\")\n",
    "print(df.info())\n",
    "print(\"\\n\"*2)"
   ]
  },
  {
   "cell_type": "code",
   "execution_count": null,
   "id": "4aa18f7e",
   "metadata": {},
   "outputs": [],
   "source": [
    "# Guardar el mapeo de encoders para referencia futura\n",
    "print(\"=== MAPEO DE ENCODERS (para referencia) ===\")\n",
    "for col, encoder in encoders.items():\n",
    "    print(f\"\\nColumna '{col}':\")\n",
    "    mapping = dict(zip(encoder.classes_, encoder.transform(encoder.classes_)))\n",
    "    print(f\"  Mapeo: {mapping}\")\n",
    "print(\"\\n\"*2)\n",
    "print(\"Dataset listo\")"
   ]
  }
 ],
 "metadata": {
  "language_info": {
   "name": "python"
  }
 },
 "nbformat": 4,
 "nbformat_minor": 5
}
